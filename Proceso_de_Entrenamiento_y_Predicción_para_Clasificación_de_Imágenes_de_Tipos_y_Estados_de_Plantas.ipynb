{
  "nbformat": 4,
  "nbformat_minor": 0,
  "metadata": {
    "colab": {
      "provenance": [],
      "gpuType": "T4",
      "authorship_tag": "ABX9TyOyhNVYGKj3PjrXEqkMzNhr",
      "include_colab_link": true
    },
    "kernelspec": {
      "name": "python3",
      "display_name": "Python 3"
    },
    "language_info": {
      "name": "python"
    },
    "accelerator": "GPU"
  },
  "cells": [
    {
      "cell_type": "markdown",
      "metadata": {
        "id": "view-in-github",
        "colab_type": "text"
      },
      "source": [
        "<a href=\"https://colab.research.google.com/github/AlvingEj/monitoreo_control_arvenses/blob/main/Proceso_de_Entrenamiento_y_Predicci%C3%B3n_para_Clasificaci%C3%B3n_de_Im%C3%A1genes_de_Tipos_y_Estados_de_Plantas.ipynb\" target=\"_parent\"><img src=\"https://colab.research.google.com/assets/colab-badge.svg\" alt=\"Open In Colab\"/></a>"
      ]
    },
    {
      "cell_type": "code",
      "source": [
        "import os\n",
        "import zipfile\n",
        "import tensorflow as tf\n",
        "from tensorflow.keras.models import Sequential\n",
        "from tensorflow.keras.layers import Conv2D, MaxPooling2D, Flatten, Dense, Dropout\n",
        "from tensorflow.keras.preprocessing.image import ImageDataGenerator\n",
        "import matplotlib.pyplot as plt\n",
        "from google.colab import files"
      ],
      "metadata": {
        "id": "ZTC7DO0XRgIz"
      },
      "execution_count": null,
      "outputs": []
    },
    {
      "cell_type": "code",
      "source": [
        "def subir_y_descomprimir_zip():\n",
        "\n",
        "    #Sube y descomprime un archivo zip.\n",
        "    uploaded = files.upload()\n",
        "    if uploaded:\n",
        "        zip_filename = list(uploaded.keys())[0]\n",
        "        try:\n",
        "            with zipfile.ZipFile(zip_filename, 'r') as zip_ref:\n",
        "                zip_ref.extractall('dataset')\n",
        "            print(\"Archivo zip descomprimido correctamente\")\n",
        "        except zipfile.BadZipFile:\n",
        "            print(\"Error: El archivo subido no es un archivo zip válido.\")\n",
        "    else:\n",
        "        print(\"Error: No se subió ningún archivo zip.\")\n",
        "    return os.listdir('dataset')\n",
        "\n",
        "subir_y_descomprimir_zip()\n"
      ],
      "metadata": {
        "id": "wc4B6TVcR85i"
      },
      "execution_count": null,
      "outputs": []
    },
    {
      "cell_type": "code",
      "source": [
        "def verificar_estructura_directorios():\n",
        "\n",
        "    #Verifica y muestra la estructura de directorios.\n",
        "    print(\"Contenido de la carpeta 'dataset':\")\n",
        "    print(os.listdir('dataset'))\n",
        "\n",
        "    if os.path.exists('dataset/dataset'):\n",
        "        print(\"Contenido de la carpeta 'dataset/dataset':\")\n",
        "        print(os.listdir('dataset/dataset'))\n",
        "\n",
        "        if os.path.exists('dataset/dataset/Manzana'):\n",
        "            print(\"Contenido de la carpeta 'dataset/dataset/Manzana':\")\n",
        "            print(os.listdir('dataset/dataset/Manzana'))\n",
        "        if os.path.exists('dataset/dataset/Uva'):\n",
        "            print(\"Contenido de la carpeta 'dataset/dataset/Uva':\")\n",
        "            print(os.listdir('dataset/dataset/Uva'))\n",
        "\n",
        "verificar_estructura_directorios()"
      ],
      "metadata": {
        "id": "sBTzRCdFSD6K"
      },
      "execution_count": null,
      "outputs": []
    },
    {
      "cell_type": "code",
      "source": [
        "def crear_generadores_datos():\n",
        "    \"\"\"Crea generadores de datos para entrenamiento y validación.\"\"\"\n",
        "    datagen = ImageDataGenerator(rescale=1./255, validation_split=0.2)\n",
        "\n",
        "    # Generador de datos para el tipo de planta\n",
        "    train_generator_type = datagen.flow_from_directory(\n",
        "        'dataset/dataset',\n",
        "        target_size=(150, 150),\n",
        "        batch_size=32,\n",
        "        class_mode='binary',\n",
        "        subset='training'\n",
        "    )\n",
        "    validation_generator_type = datagen.flow_from_directory(\n",
        "        'dataset/dataset',\n",
        "        target_size=(150, 150),\n",
        "        batch_size=32,\n",
        "        class_mode='binary',\n",
        "        subset='validation'\n",
        "    )\n",
        "    print(f\"Generador de datos para el tipo de planta creado: {train_generator_type.samples} muestras de entrenamiento y {validation_generator_type.samples} muestras de validación.\")\n",
        "\n",
        "    # Generador de datos para el estado de la planta para Manzana\n",
        "    train_generator_status_A = datagen.flow_from_directory(\n",
        "        'dataset/dataset/Manzana',\n",
        "        target_size=(150, 150),\n",
        "        batch_size=32,\n",
        "        class_mode='categorical',\n",
        "        subset='training'\n",
        "    )\n",
        "    validation_generator_status_A = datagen.flow_from_directory(\n",
        "        'dataset/dataset/Manzana',\n",
        "        target_size=(150, 150),\n",
        "        batch_size=32,\n",
        "        class_mode='categorical',\n",
        "        subset='validation'\n",
        "    )\n",
        "    print(f\"Generador de datos para el estado de la planta de Manzana creado: {train_generator_status_A.samples} muestras de entrenamiento y {validation_generator_status_A.samples} muestras de validación.\")\n",
        "\n",
        "    # Generador de datos para el estado de la planta para Uva\n",
        "    train_generator_status_B = datagen.flow_from_directory(\n",
        "        'dataset/dataset/Uva',\n",
        "        target_size=(150, 150),\n",
        "        batch_size=32,\n",
        "        class_mode='categorical',\n",
        "        subset='training'\n",
        "    )\n",
        "    validation_generator_status_B = datagen.flow_from_directory(\n",
        "        'dataset/dataset/Uva',\n",
        "        target_size=(150, 150),\n",
        "        batch_size=32,\n",
        "        class_mode='categorical',\n",
        "        subset='validation'\n",
        "    )\n",
        "    print(f\"Generador de datos para el estado de la planta de Uva creado: {train_generator_status_B.samples} muestras de entrenamiento y {validation_generator_status_B.samples} muestras de validación.\")\n",
        "\n",
        "    return (train_generator_type, validation_generator_type,\n",
        "            train_generator_status_A, validation_generator_status_A,\n",
        "            train_generator_status_B, validation_generator_status_B)\n",
        "\n",
        "(train_generator_type, validation_generator_type,\n",
        " train_generator_status_A, validation_generator_status_A,\n",
        " train_generator_status_B, validation_generator_status_B) = crear_generadores_datos()\n"
      ],
      "metadata": {
        "id": "OHx7FKdqSKUL"
      },
      "execution_count": null,
      "outputs": []
    },
    {
      "cell_type": "code",
      "source": [
        "def crear_modelo_tipo_planta():\n",
        "\n",
        "    #Crea y compila el modelo para la clasificación del tipo de planta.\n",
        "    model_type = Sequential([\n",
        "        Conv2D(32, (3, 3), activation='relu', input_shape=(150, 150, 3)),\n",
        "        MaxPooling2D(2, 2),\n",
        "        Conv2D(64, (3, 3), activation='relu'),\n",
        "        MaxPooling2D(2, 2),\n",
        "        Conv2D(128, (3, 3), activation='relu'),\n",
        "        MaxPooling2D(2, 2),\n",
        "        Flatten(),\n",
        "        Dense(512, activation='relu'),\n",
        "        Dropout(0.5),\n",
        "        Dense(1, activation='sigmoid')\n",
        "    ])\n",
        "\n",
        "    model_type.compile(loss='binary_crossentropy',\n",
        "                       optimizer='adam',\n",
        "                       metrics=['accuracy'])\n",
        "\n",
        "    model_type.summary()\n",
        "    return model_type\n",
        "\n",
        "model_type = crear_modelo_tipo_planta()\n"
      ],
      "metadata": {
        "id": "rm2IGGXWSOQS"
      },
      "execution_count": null,
      "outputs": []
    },
    {
      "cell_type": "code",
      "source": [
        "def crear_modelo_estado_planta(num_clases):\n",
        "\n",
        "    #Crea y compila el modelo para la clasificación del estado de la planta.\n",
        "    model_status = Sequential([\n",
        "        Conv2D(32, (3, 3), activation='relu', input_shape=(150, 150, 3)),\n",
        "        MaxPooling2D(2, 2),\n",
        "        Conv2D(64, (3, 3), activation='relu'),\n",
        "        MaxPooling2D(2, 2),\n",
        "        Conv2D(128, (3, 3), activation='relu'),\n",
        "        MaxPooling2D(2, 2),\n",
        "        Flatten(),\n",
        "        Dense(512, activation='relu'),\n",
        "        Dropout(0.5),\n",
        "        Dense(num_clases, activation='softmax')\n",
        "    ])\n",
        "\n",
        "    model_status.compile(optimizer='adam',\n",
        "                         loss='categorical_crossentropy',\n",
        "                         metrics=['accuracy'])\n",
        "    model_status.summary()\n",
        "    return model_status\n",
        "\n",
        "model_status_A = crear_modelo_estado_planta(num_clases=4)\n",
        "model_status_B = crear_modelo_estado_planta(num_clases=4)"
      ],
      "metadata": {
        "id": "HoA7WmzHSUF6"
      },
      "execution_count": null,
      "outputs": []
    },
    {
      "cell_type": "code",
      "source": [
        "def entrenar_modelo(model, train_generator, validation_generator, epochs):\n",
        "\n",
        "    #Entrena el modelo y devuelve el historial de entrenamiento.\n",
        "    history = model.fit(\n",
        "        train_generator,\n",
        "        epochs=epochs,\n",
        "        validation_data=validation_generator\n",
        "    )\n",
        "    return history\n",
        "\n",
        "history_type = entrenar_modelo(model_type, train_generator_type, validation_generator_type, epochs=25)\n",
        "history_status_A = entrenar_modelo(model_status_A, train_generator_status_A, validation_generator_status_A, epochs=25)\n",
        "history_status_B = entrenar_modelo(model_status_B, train_generator_status_B, validation_generator_status_B, epochs=25)"
      ],
      "metadata": {
        "id": "dqSZAgPZSY2x"
      },
      "execution_count": null,
      "outputs": []
    },
    {
      "cell_type": "code",
      "source": [
        "def graficar_metricas(history, title):\n",
        "\n",
        "    #Grafica las métricas de precisión y pérdida.\n",
        "    acc = history.history['accuracy']\n",
        "    val_acc = history.history['val_accuracy']\n",
        "    loss = history.history['loss']\n",
        "    val_loss = history.history['val_loss']\n",
        "    epochs = range(1, len(acc) + 1)\n",
        "\n",
        "    plt.figure(figsize=(14, 5))\n",
        "\n",
        "    plt.subplot(1, 2, 1)\n",
        "    plt.plot(epochs, acc, 'bo-', label='Entrenamiento')\n",
        "    plt.plot(epochs, val_acc, 'ro-', label='Validación')\n",
        "    plt.title(f'Precisión de {title}')\n",
        "    plt.xlabel('Épocas')\n",
        "    plt.ylabel('Precisión')\n",
        "    plt.legend()\n",
        "\n",
        "    plt.subplot(1, 2, 2)\n",
        "    plt.plot(epochs, loss, 'bo-', label='Entrenamiento')\n",
        "    plt.plot(epochs, val_loss, 'ro-', label='Validación')\n",
        "    plt.title(f'Pérdida de {title}')\n",
        "    plt.xlabel('Épocas')\n",
        "    plt.ylabel('Pérdida')\n",
        "    plt.legend()\n",
        "\n",
        "    plt.show()\n",
        "\n",
        "graficar_metricas(history_type, 'Tipo de Planta')\n",
        "graficar_metricas(history_status_A, 'Estado de Manzana')\n",
        "graficar_metricas(history_status_B, 'Estado de Uva')"
      ],
      "metadata": {
        "id": "4miQb_BcSdGq"
      },
      "execution_count": null,
      "outputs": []
    },
    {
      "cell_type": "code",
      "source": [
        "def guardar_modelos():\n",
        "\n",
        "    #Guarda los modelos entrenados en archivos.\n",
        "    model_type.save('modelo_tipo_planta.keras')\n",
        "    model_status_A.save('modelo_estado_manzana.keras')\n",
        "    model_status_B.save('modelo_estado_uva.keras')\n",
        "    '''\n",
        "    # Descarga los archivos a tu computadora.\n",
        "    files.download('/content/modelo_tipo_planta.keras')\n",
        "    files.download('/content/modelo_estado_manzana.keras')\n",
        "    files.download('/content/modelo_estado_uva.keras')\n",
        "    '''\n",
        "guardar_modelos()"
      ],
      "metadata": {
        "id": "zu66Gb-wUolx"
      },
      "execution_count": null,
      "outputs": []
    },
    {
      "cell_type": "code",
      "source": [
        "'''\n",
        "def cargar_modelos():\n",
        "\n",
        "    #Cargar modelos\n",
        "    model_type = tf.keras.models.load_model('modelo_tipo_planta.keras')\n",
        "    model_status_A = tf.keras.models.load_model('modelo_estado_manzana.keras')\n",
        "    model_status_B = tf.keras.models.load_model('modelo_estado_uva.keras')\n",
        "\n",
        "    return model_type, model_status_A, model_status_B\n",
        "\n",
        "model_type, model_status_A, model_status_B = cargar_modelos()\n",
        "'''"
      ],
      "metadata": {
        "id": "ErKsJcH2h7YU"
      },
      "execution_count": null,
      "outputs": []
    },
    {
      "cell_type": "code",
      "source": [
        "def predecir_imagenes(model_type, model_status_A, model_status_B):\n",
        "\n",
        "    #Predice el tipo y el estado de la planta de las imágenes subidas.\n",
        "    estado_mapeo_uv = {\n",
        "        0: 'Uva Podredumbre Negra',\n",
        "        1: 'Uva Sana',\n",
        "        2: 'Uva Sarampión Negro',\n",
        "        3: 'Uva Tizón Hoja'\n",
        "    }\n",
        "\n",
        "    estado_mapeo_ma = {\n",
        "        0: 'Manzana Podredumbre Negra',\n",
        "        1: 'Manzana Roya Manzano',\n",
        "        2: 'Manzana Sana',\n",
        "        3: 'Manzana Sarna Manzano'\n",
        "    }\n",
        "\n",
        "    uploaded = files.upload()\n",
        "\n",
        "    for filename in uploaded.keys():\n",
        "        img_path = filename\n",
        "\n",
        "        img = tf.keras.preprocessing.image.load_img(img_path, target_size=(150, 150))\n",
        "        img_array = tf.keras.preprocessing.image.img_to_array(img)\n",
        "        img_array = tf.expand_dims(img_array, axis=0) / 255.0\n",
        "\n",
        "        plant_type = model_type.predict(img_array)\n",
        "        plant_type_label = 1 if plant_type[0][0] >= 0.5 else 0\n",
        "\n",
        "        if plant_type_label == 0:\n",
        "            status = model_status_A.predict(img_array)\n",
        "            estado_mapeo = estado_mapeo_ma\n",
        "        else:\n",
        "            status = model_status_B.predict(img_array)\n",
        "            estado_mapeo = estado_mapeo_uv\n",
        "\n",
        "        status_label_index = tf.argmax(status, axis=1).numpy()[0]\n",
        "        status_label = estado_mapeo.get(status_label_index, 'Desconocido')\n",
        "\n",
        "        plant_type_name = \"Manzana\" if plant_type_label == 0 else \"Uva\"\n",
        "        print(f\"{filename}: Tipo de planta - {plant_type_name}, Estado de la planta - {status_label}\")\n",
        "\n",
        "predecir_imagenes(model_type, model_status_A, model_status_B)"
      ],
      "metadata": {
        "id": "8loBN2ojSggy"
      },
      "execution_count": null,
      "outputs": []
    },
    {
      "cell_type": "code",
      "source": [
        "'''\n",
        "# Flujo principal\n",
        "subir_y_descomprimir_zip()\n",
        "verificar_estructura_directorios()\n",
        "\n",
        "(train_generator_type, validation_generator_type,\n",
        " train_generator_status_A, validation_generator_status_A,\n",
        " train_generator_status_B, validation_generator_status_B) = crear_generadores_datos()\n",
        "\n",
        "model_type = crear_modelo_tipo_planta()\n",
        "history_type = entrenar_modelo(model_type, train_generator_type, validation_generator_type, epochs=25)\n",
        "graficar_metricas(history_type, 'Tipo de Planta')\n",
        "\n",
        "model_status_A = crear_modelo_estado_planta(num_clases=4)\n",
        "history_status_A = entrenar_modelo(model_status_A, train_generator_status_A, validation_generator_status_A, epochs=25)\n",
        "graficar_metricas(history_status_A, 'Estado de Manzana')\n",
        "\n",
        "model_status_B = crear_modelo_estado_planta(num_clases=4)\n",
        "history_status_B = entrenar_modelo(model_status_B, train_generator_status_B, validation_generator_status_B, epochs=25)\n",
        "graficar_metricas(history_status_B, 'Estado de Uva')\n",
        "\n",
        "predecir_imagenes(model_type, model_status_A, model_status_B)\n",
        "'''"
      ],
      "metadata": {
        "id": "EEqHYAwQSl9h"
      },
      "execution_count": null,
      "outputs": []
    }
  ]
}